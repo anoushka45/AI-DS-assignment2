{
  "cells": [
    {
      "cell_type": "markdown",
      "metadata": {
        "id": "AHiJx0eydoEV"
      },
      "source": [
        "\n",
        "LY_IT_73 : Anoushka Vyas** <br>\n",
        "Assignment 2 : cognitive application for personalized Education using Neural Network."
      ]
    },
    {
      "cell_type": "code",
      "execution_count": 9,
      "metadata": {
        "id": "D1455qJSYSxf"
      },
      "outputs": [],
      "source": [
        "import pandas as pd\n",
        "import numpy as np\n",
        "from sklearn.model_selection import train_test_split\n",
        "\n",
        "# Load the dataset\n",
        "data = pd.read_csv('student_math_data.csv')\n",
        "\n",
        "# Preprocessing\n",
        "data['Answer'] = data['Answer'].apply(lambda x: 1 if x == 5 else 0)  # Convert answers to binary (correct/incorrect)\n",
        "\n",
        "# Feature selection\n",
        "X = data[['Student ID', 'Question ID', 'Time Taken', 'Difficulty Level']]\n",
        "y = data['Answer']\n",
        "\n",
        "# Normalize feature values\n",
        "X = (X - X.mean()) / X.std()  # Standardization\n",
        "\n",
        "# Split the data into training and testing sets\n",
        "X_train, X_test, y_train, y_test = train_test_split(X, y, test_size=0.2, random_state=42)\n",
        "# Calculate mean and standard deviation from training data\n",
        "mean = X_train.mean()\n",
        "std = X_train.std()\n",
        "\n",
        "# Use these for later normalization\n"
      ]
    },
    {
      "cell_type": "code",
      "execution_count": 10,
      "metadata": {
        "colab": {
          "base_uri": "https://localhost:8080/"
        },
        "id": "9l6fFXwsYf7m",
        "outputId": "d879f705-4c51-4e48-8bd4-0e6945d69aa3"
      },
      "outputs": [
        {
          "name": "stdout",
          "output_type": "stream",
          "text": [
            "Epoch 1/10\n"
          ]
        },
        {
          "name": "stderr",
          "output_type": "stream",
          "text": [
            "/usr/local/lib/python3.10/dist-packages/keras/src/layers/core/dense.py:87: UserWarning: Do not pass an `input_shape`/`input_dim` argument to a layer. When using Sequential models, prefer using an `Input(shape)` object as the first layer in the model instead.\n",
            "  super().__init__(activity_regularizer=activity_regularizer, **kwargs)\n"
          ]
        },
        {
          "name": "stdout",
          "output_type": "stream",
          "text": [
            "\u001b[1m2/2\u001b[0m \u001b[32m━━━━━━━━━━━━━━━━━━━━\u001b[0m\u001b[37m\u001b[0m \u001b[1m1s\u001b[0m 193ms/step - accuracy: 0.9583 - loss: 0.5549 - val_accuracy: 1.0000 - val_loss: 0.5251\n",
            "Epoch 2/10\n",
            "\u001b[1m2/2\u001b[0m \u001b[32m━━━━━━━━━━━━━━━━━━━━\u001b[0m\u001b[37m\u001b[0m \u001b[1m0s\u001b[0m 30ms/step - accuracy: 0.9792 - loss: 0.5109 - val_accuracy: 1.0000 - val_loss: 0.4908\n",
            "Epoch 3/10\n",
            "\u001b[1m2/2\u001b[0m \u001b[32m━━━━━━━━━━━━━━━━━━━━\u001b[0m\u001b[37m\u001b[0m \u001b[1m0s\u001b[0m 30ms/step - accuracy: 0.9583 - loss: 0.4950 - val_accuracy: 1.0000 - val_loss: 0.4563\n",
            "Epoch 4/10\n",
            "\u001b[1m2/2\u001b[0m \u001b[32m━━━━━━━━━━━━━━━━━━━━\u001b[0m\u001b[37m\u001b[0m \u001b[1m0s\u001b[0m 30ms/step - accuracy: 0.9792 - loss: 0.4524 - val_accuracy: 1.0000 - val_loss: 0.4216\n",
            "Epoch 5/10\n",
            "\u001b[1m2/2\u001b[0m \u001b[32m━━━━━━━━━━━━━━━━━━━━\u001b[0m\u001b[37m\u001b[0m \u001b[1m0s\u001b[0m 38ms/step - accuracy: 0.9792 - loss: 0.4219 - val_accuracy: 1.0000 - val_loss: 0.3880\n",
            "Epoch 6/10\n",
            "\u001b[1m2/2\u001b[0m \u001b[32m━━━━━━━━━━━━━━━━━━━━\u001b[0m\u001b[37m\u001b[0m \u001b[1m0s\u001b[0m 30ms/step - accuracy: 0.9583 - loss: 0.4014 - val_accuracy: 1.0000 - val_loss: 0.3563\n",
            "Epoch 7/10\n",
            "\u001b[1m2/2\u001b[0m \u001b[32m━━━━━━━━━━━━━━━━━━━━\u001b[0m\u001b[37m\u001b[0m \u001b[1m0s\u001b[0m 40ms/step - accuracy: 0.9792 - loss: 0.3645 - val_accuracy: 1.0000 - val_loss: 0.3259\n",
            "Epoch 8/10\n",
            "\u001b[1m2/2\u001b[0m \u001b[32m━━━━━━━━━━━━━━━━━━━━\u001b[0m\u001b[37m\u001b[0m \u001b[1m0s\u001b[0m 42ms/step - accuracy: 0.9792 - loss: 0.3364 - val_accuracy: 1.0000 - val_loss: 0.2967\n",
            "Epoch 9/10\n",
            "\u001b[1m2/2\u001b[0m \u001b[32m━━━━━━━━━━━━━━━━━━━━\u001b[0m\u001b[37m\u001b[0m \u001b[1m0s\u001b[0m 31ms/step - accuracy: 0.9583 - loss: 0.3187 - val_accuracy: 1.0000 - val_loss: 0.2695\n",
            "Epoch 10/10\n",
            "\u001b[1m2/2\u001b[0m \u001b[32m━━━━━━━━━━━━━━━━━━━━\u001b[0m\u001b[37m\u001b[0m \u001b[1m0s\u001b[0m 31ms/step - accuracy: 0.9583 - loss: 0.3050 - val_accuracy: 1.0000 - val_loss: 0.2438\n",
            "\u001b[1m1/1\u001b[0m \u001b[32m━━━━━━━━━━━━━━━━━━━━\u001b[0m\u001b[37m\u001b[0m \u001b[1m0s\u001b[0m 24ms/step - accuracy: 1.0000 - loss: 0.2641\n",
            "Test accuracy: 1.00\n"
          ]
        }
      ],
      "source": [
        "import tensorflow as tf\n",
        "from tensorflow import keras\n",
        "from tensorflow.keras import layers\n",
        "\n",
        "# Build the model\n",
        "model = keras.Sequential([\n",
        "    layers.Dense(64, activation='relu', input_shape=(X_train.shape[1],)),\n",
        "    layers.Dense(32, activation='relu'),\n",
        "    layers.Dense(1, activation='sigmoid')  # Output layer for binary classification\n",
        "])\n",
        "\n",
        "# Compile the model\n",
        "model.compile(optimizer='adam', loss='binary_crossentropy', metrics=['accuracy'])\n",
        "\n",
        "# Train the model\n",
        "model.fit(X_train, y_train, epochs=10, batch_size=16, validation_split=0.2)\n",
        "\n",
        "# Evaluate the model\n",
        "loss, accuracy = model.evaluate(X_test, y_test)\n",
        "print(f'Test accuracy: {accuracy:.2f}')\n"
      ]
    },
    {
      "cell_type": "code",
      "execution_count": 11,
      "metadata": {
        "colab": {
          "base_uri": "https://localhost:8080/"
        },
        "id": "Pn58jw4taM9n",
        "outputId": "ac1374b6-ee04-4d98-94c7-1ba3ddf9bcea"
      },
      "outputs": [
        {
          "name": "stderr",
          "output_type": "stream",
          "text": [
            "WARNING:absl:You are saving your model as an HDF5 file via `model.save()` or `keras.saving.save_model(model)`. This file format is considered legacy. We recommend using instead the native Keras format, e.g. `model.save('my_model.keras')` or `keras.saving.save_model(model, 'my_model.keras')`. \n"
          ]
        }
      ],
      "source": [
        "model.save('math_tutoring_model.h5')\n"
      ]
    },
    {
      "cell_type": "code",
      "execution_count": 18,
      "metadata": {
        "id": "CSeZiOV4aRCN"
      },
      "outputs": [],
      "source": [
        "def predict_answer(student_id, question_id, time_taken, difficulty_level):\n",
        "    # Prepare the input data as a 2D array (1 sample, 4 features)\n",
        "    input_data = np.array([[student_id, question_id, time_taken, difficulty_level]])\n",
        "\n",
        "    # Normalize the input using the training mean and std\n",
        "    # Convert mean and std to NumPy arrays to avoid index alignment issues\n",
        "    input_data_normalized = (input_data - mean.values) / std.values\n",
        "\n",
        "    # Load the trained model\n",
        "    model = keras.models.load_model('math_tutoring_model.h5')\n",
        "\n",
        "    # Make prediction\n",
        "    prediction = model.predict(input_data_normalized)\n",
        "    return prediction[0][0] > 0.5  # Returns True if predicted correct"
      ]
    },
    {
      "cell_type": "code",
      "execution_count": 19,
      "metadata": {
        "colab": {
          "base_uri": "https://localhost:8080/"
        },
        "id": "zxjRR2AcaS2O",
        "outputId": "63394ea2-c57b-4967-c8a1-a455fb28c28f"
      },
      "outputs": [
        {
          "name": "stderr",
          "output_type": "stream",
          "text": [
            "WARNING:absl:Compiled the loaded model, but the compiled metrics have yet to be built. `model.compile_metrics` will be empty until you train or evaluate the model.\n"
          ]
        },
        {
          "name": "stdout",
          "output_type": "stream",
          "text": [
            "\u001b[1m1/1\u001b[0m \u001b[32m━━━━━━━━━━━━━━━━━━━━\u001b[0m\u001b[37m\u001b[0m \u001b[1m0s\u001b[0m 73ms/step\n",
            "Predicted Correct Answer: False\n"
          ]
        }
      ],
      "source": [
        "# Example input values\n",
        "student_id = 51\n",
        "question_id = 201\n",
        "time_taken = 45  # in seconds\n",
        "difficulty_level = 2\n",
        "\n",
        "# Get prediction\n",
        "is_correct = predict_answer(student_id, question_id, time_taken, difficulty_level)\n",
        "print(f'Predicted Correct Answer: {is_correct}')\n"
      ]
    },
    {
      "cell_type": "code",
      "execution_count": null,
      "metadata": {
        "id": "8YQTma-yaUyE"
      },
      "outputs": [],
      "source": []
    }
  ],
  "metadata": {
    "colab": {
      "provenance": []
    },
    "kernelspec": {
      "display_name": "Python 3",
      "name": "python3"
    },
    "language_info": {
      "name": "python"
    }
  },
  "nbformat": 4,
  "nbformat_minor": 0
}
